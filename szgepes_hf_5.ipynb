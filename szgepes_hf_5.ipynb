{
  "nbformat": 4,
  "nbformat_minor": 0,
  "metadata": {
    "colab": {
      "provenance": [],
      "authorship_tag": "ABX9TyMwTKTfz3E8P6n4EbnoiK8S",
      "include_colab_link": true
    },
    "kernelspec": {
      "name": "ir",
      "display_name": "R"
    },
    "language_info": {
      "name": "R"
    }
  },
  "cells": [
    {
      "cell_type": "markdown",
      "metadata": {
        "id": "view-in-github",
        "colab_type": "text"
      },
      "source": [
        "<a href=\"https://colab.research.google.com/github/leonardo-toffalini/szgepes25-hf/blob/main/szgepes_hf_5.ipynb\" target=\"_parent\"><img src=\"https://colab.research.google.com/assets/colab-badge.svg\" alt=\"Open In Colab\"/></a>"
      ]
    },
    {
      "cell_type": "markdown",
      "source": [
        "# Feladat\n",
        "Adjunk pontos 95%-os megbízhatóságú konfidencia intervallumot n(=10,40,160) elemű minta alapján az exponenciális eloszlás paraméterére (segítség: használjuk a gamma eloszlást) és hasonlítsuk össze az órán látott aszimptotikus intervallummal szimulációk alapján (hogy viszonyul egymáshoz a hosszuk, illetve a \"találati arányuk\"?)"
      ],
      "metadata": {
        "id": "Ol9k3ZzHlZ4b"
      }
    },
    {
      "cell_type": "markdown",
      "source": [
        "# Solution\n",
        "\n",
        "Let $X_1, X_2, \\ldots, X_n$ be independent and identically distributed random variables from an exponential distribution with parameter $\\lambda$.\n",
        "\n",
        "We know that:\n",
        "\n",
        "If $X \\sim \\text{Exp}(\\lambda)$, then the probability density function is: $f(x) = \\lambda e^{-\\lambda x}$, where $x > 0$\n",
        "\n",
        "The sum of exponentially distributed random variables follows a gamma distribution:\n",
        "\n",
        "If $X_1, X_2, \\ldots, X_n \\sim \\text{Exp}(\\lambda)$, then $S = \\sum_{i=1}^{n} X_i \\sim \\text{Gamma}(n, \\lambda)$\n",
        "\n",
        "The probability density function of\n",
        "$\\text{Gamma}(n, \\lambda)$ is:\n",
        "$$f(s) = \\frac{\\lambda^n s^{n-1} e^{-\\lambda s}}{\\Gamma(n)}$, $s > 0$$\n"
      ],
      "metadata": {
        "id": "D69P86BuoGF9"
      }
    },
    {
      "cell_type": "markdown",
      "source": [
        "To derive a $(1-\\alpha)$ confidence interval for $\\lambda$, we need to find bounds $[L(S), U(S)]$ such that:\n",
        "\n",
        "$$\n",
        "P\\left(L(S) \\le \\lambda \\le U(S)\\right) = 1 - \\alpha\n",
        "$$\n",
        "\n",
        "\n",
        "Using the properties of the gamma distribution:\n",
        "\n",
        "If $S \\sim \\text{Gamma}(n, \\lambda)$, then $\\lambda S \\sim \\text{Gamma}(n, 1)$\n",
        "\n",
        "Let $g_{\\alpha/2}$ and $g_{1-\\alpha/2}$ be the $\\alpha/2$ and $(1-\\alpha/2)$ quantiles of the $\\text{Gamma}(n, 1)$ distribution:\n",
        "\n",
        "$P(\\lambda S \\leq g_{\\alpha/2}) = \\alpha/2$\n",
        "\n",
        "$P(\\lambda S \\geq g_{1-\\alpha/2}) = \\alpha/2$\n",
        "\n",
        "From this:\n",
        "\n",
        "$P(g_{\\alpha/2} \\leq \\lambda S \\leq g_{1-\\alpha/2}) = 1 - \\alpha$\n",
        "\n",
        "Rearranging for $\\lambda$:\n",
        "\n",
        "$P\\left(\\frac{g_{\\alpha/2}}{S} \\leq \\lambda \\leq \\frac{g_{1-\\alpha/2}}{S}\\right) = 1 - \\alpha$\n",
        "\n",
        "Therefore, the confidence interval bounds are:\n",
        "\n",
        "$L(S) = \\frac{g_{\\alpha/2}}{S}$\n",
        "\n",
        "$U(S) = \\frac{g_{1-\\alpha/2}}{S}$"
      ],
      "metadata": {
        "id": "_GCNk7CEqPWu"
      }
    },
    {
      "cell_type": "code",
      "source": [
        "exact_ci_gamma <- function(sample, conf_level = 0.95) {\n",
        "  n <- length(sample)\n",
        "  sum_x <- sum(sample)\n",
        "  alpha <- 1 - conf_level\n",
        "\n",
        "  # The sum of exponentials with parameter λ follows Gamma(n, λ)\n",
        "  # So sum_x ~ Gamma(n, λ)\n",
        "  # For a fixed sum_x, the confidence interval for λ is derived from:\n",
        "  # P(qgamma(alpha/2, n) < λ*sum_x < qgamma(1-alpha/2, n)) = 1-alpha\n",
        "\n",
        "  lower <- qgamma(alpha/2, shape = n) / sum_x\n",
        "  upper <- qgamma(1-alpha/2, shape = n) / sum_x\n",
        "\n",
        "  return(c(lower = lower, upper = upper))\n",
        "}\n"
      ],
      "metadata": {
        "id": "xVkhtv8IoSml"
      },
      "execution_count": 11,
      "outputs": []
    },
    {
      "cell_type": "code",
      "source": [
        "lambda_param <- 1\n",
        "sample_size <- 50\n",
        "\n",
        "sample <- rexp(sample_size, rate = lambda_param)"
      ],
      "metadata": {
        "id": "VYrftt4ooiYn"
      },
      "execution_count": 9,
      "outputs": []
    },
    {
      "cell_type": "code",
      "source": [
        "ci <- exact_ci_gamma(sample)\n",
        "\n",
        "cat(\"Avg:\", mean(sample), \"\\n\")\n",
        "cat(\"95% confidence interval for λ: [\", ci[1], \",\", ci[2], \"]\\n\")"
      ],
      "metadata": {
        "colab": {
          "base_uri": "https://localhost:8080/"
        },
        "id": "r__mDW51onA-",
        "outputId": "11323736-84d3-4b02-930f-681cfe02703c"
      },
      "execution_count": 10,
      "outputs": [
        {
          "output_type": "stream",
          "name": "stdout",
          "text": [
            "Avg: 0.7839886 \n",
            "95% confidence interval for λ: [ 0.946722 , 1.65259 ]\n"
          ]
        }
      ]
    }
  ]
}